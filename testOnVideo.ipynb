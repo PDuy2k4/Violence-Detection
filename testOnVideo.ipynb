{
 "cells": [
  {
   "cell_type": "code",
   "execution_count": 153,
   "metadata": {},
   "outputs": [],
   "source": [
    "import cv2\n",
    "import numpy as np\n",
    "import onnxruntime as ort"
   ]
  },
  {
   "cell_type": "code",
   "execution_count": 154,
   "metadata": {},
   "outputs": [],
   "source": [
    "model_path = r\".\\model_quantized.onnx\""
   ]
  },
  {
   "cell_type": "code",
   "execution_count": 155,
   "metadata": {},
   "outputs": [],
   "source": [
    "video_path=r'.\\violentVideo\\vid_1.mp4'"
   ]
  },
  {
   "cell_type": "code",
   "execution_count": 156,
   "metadata": {},
   "outputs": [],
   "source": [
    "def img_preprocessing(img):\n",
    "    mean=[0.485, 0.456, 0.406]\n",
    "    std=[0.229, 0.224, 0.225]\n",
    "    img = cv2.resize(img, (256, 256))\n",
    "    img = cv2.cvtColor(img, cv2.COLOR_BGR2RGB)\n",
    "    img = img / 255.0\n",
    "    for i in range(3):\n",
    "        img[:, :, i] = (img[:, :, i] - mean[i]) / std[i]\n",
    "    img = np.transpose(img, (2, 0, 1))\n",
    "    return img"
   ]
  },
  {
   "cell_type": "code",
   "execution_count": 157,
   "metadata": {},
   "outputs": [],
   "source": [
    "def predict_on_video(video_path,onnx_model_path,n_fps_pred=7,n_frames_pred=8,n_frames_split=1):\n",
    "    #loader model\n",
    "    \n",
    "    session = ort.InferenceSession(onnx_model_path)\n",
    "    input_name=session.get_inputs()[0].name\n",
    "    output_name=session.get_outputs()[0].name\n",
    "\n",
    "    cap = cv2.VideoCapture(video_path)\n",
    "    if not cap.isOpened():\n",
    "        print(\"Error: Could not open video.\")\n",
    "        return\n",
    "    fps=cap.get(cv2.CAP_PROP_FPS)\n",
    "    interval=int(fps/n_fps_pred)\n",
    "    X=[]\n",
    "    violent_frames=[]\n",
    "    tmp_violent_frames=[]\n",
    "    counts=0\n",
    "    while True:\n",
    "        counts+=1\n",
    "        ret,frame=cap.read()\n",
    "        if not ret:\n",
    "            break\n",
    "        if(counts%interval==0):\n",
    "            counts=0\n",
    "            processed_frame=img_preprocessing(frame)\n",
    "            X.append(processed_frame)\n",
    "            tmp_violent_frames.append(frame)\n",
    "        input_data=np.array([X.copy()],dtype=np.float32)\n",
    "        if(len(input_data[0])!=n_frames_pred):\n",
    "            pass\n",
    "        else:\n",
    "            outputs = session.run([output_name], {input_name: input_data})\n",
    "            outputs[0][0]=np.exp(outputs[0][0])/np.sum(np.exp(outputs[0][0]))\n",
    "            y_preds=np.argmax(outputs[0],axis=1)[0]\n",
    "            # print(outputs[0][0])\n",
    "            if(y_preds==1) and (outputs[0][0][1]<0.86) and (outputs[0][0][1]>0.6):\n",
    "                if(len(violent_frames)>=n_frames_pred):\n",
    "                    violent_frames.extend(tmp_violent_frames[-(n_frames_pred-int(n_frames_pred/n_frames_split)+1):])\n",
    "                else:\n",
    "                    violent_frames.extend(tmp_violent_frames)\n",
    "                print(y_preds)\n",
    "            X=X[-int(n_frames_pred/n_frames_split)+1:]\n",
    "            tmp_violent_frames=tmp_violent_frames[-int(n_frames_pred/n_frames_split)+1:]\n",
    "        cv2.imshow('Video',frame)\n",
    "        if cv2.waitKey(1) & 0xFF == ord('q'):\n",
    "                break\n",
    "        if not ret:\n",
    "                break\n",
    "    cap.release()\n",
    "    cv2.destroyAllWindows()\n",
    "\n",
    "    return violent_frames\n",
    "        "
   ]
  },
  {
   "cell_type": "code",
   "execution_count": 158,
   "metadata": {},
   "outputs": [
    {
     "name": "stdout",
     "output_type": "stream",
     "text": [
      "1\n",
      "1\n",
      "1\n",
      "1\n",
      "1\n",
      "1\n",
      "1\n",
      "1\n",
      "1\n",
      "1\n",
      "1\n",
      "1\n",
      "1\n",
      "1\n",
      "1\n",
      "1\n",
      "1\n",
      "1\n",
      "1\n"
     ]
    }
   ],
   "source": [
    "n_fps_pred=12\n",
    "n_frames_pred=14\n",
    "violentFrames=predict_on_video(video_path=video_path,onnx_model_path=model_path,n_fps_pred=n_fps_pred,n_frames_pred=n_frames_pred)"
   ]
  },
  {
   "cell_type": "code",
   "execution_count": 159,
   "metadata": {},
   "outputs": [
    {
     "data": {
      "text/plain": [
       "(32, 360, 640, 3)"
      ]
     },
     "execution_count": 159,
     "metadata": {},
     "output_type": "execute_result"
    }
   ],
   "source": [
    "np.array(violentFrames).shape"
   ]
  },
  {
   "cell_type": "code",
   "execution_count": 160,
   "metadata": {},
   "outputs": [],
   "source": [
    "for i in range(len(violentFrames)):\n",
    "    # Show each frame\n",
    "    # if(i>=12):\n",
    "    try:\n",
    "\n",
    "        cv2.imshow('Video Frame', violentFrames[i])\n",
    "    except:\n",
    "        print(violentFrames[i])\n",
    "        break\n",
    "    # else:\n",
    "    #     cv2.imshow('Video Frame', violentFrames[i])\n",
    "    \n",
    "    # Wait for 25 ms between frames (40 FPS). Adjust as needed.\n",
    "    if cv2.waitKey(100) & 0xFF == ord('q'):\n",
    "        break  # Press 'q' to exit early\n",
    "\n",
    "cv2.destroyAllWindows()"
   ]
  },
  {
   "cell_type": "markdown",
   "metadata": {},
   "source": [
    "# Save Video"
   ]
  },
  {
   "cell_type": "code",
   "execution_count": 161,
   "metadata": {},
   "outputs": [
    {
     "data": {
      "text/plain": [
       "'vid_1'"
      ]
     },
     "execution_count": 161,
     "metadata": {},
     "output_type": "execute_result"
    }
   ],
   "source": [
    "video_path.split('\\\\')[-1][:-4]"
   ]
  },
  {
   "cell_type": "code",
   "execution_count": 162,
   "metadata": {},
   "outputs": [
    {
     "name": "stdout",
     "output_type": "stream",
     "text": [
      "Video đã được lưu thành công tại ./Out_video/vid_1.mp4\n"
     ]
    }
   ],
   "source": [
    "if len(violentFrames)>0:\n",
    "    height, width, layers = violentFrames[0].shape\n",
    "    name=video_path.split('\\\\')[-1][:-4]\n",
    "    output_path = f'./Out_video/{name}.mp4'\n",
    "    fps = n_fps_pred  # Số frame mỗi giây\n",
    "    fourcc = cv2.VideoWriter_fourcc(*'mp4v')  # Định dạng mã hóa MP4\n",
    "    out = cv2.VideoWriter(output_path, fourcc, fps, (width, height))\n",
    "\n",
    "\n",
    "    for frame in violentFrames:\n",
    "        out.write(frame)\n",
    "\n",
    " \n",
    "    out.release()\n",
    "    print(\"Video đã được lưu thành công tại\", output_path)"
   ]
  }
 ],
 "metadata": {
  "kernelspec": {
   "display_name": "base",
   "language": "python",
   "name": "python3"
  },
  "language_info": {
   "codemirror_mode": {
    "name": "ipython",
    "version": 3
   },
   "file_extension": ".py",
   "mimetype": "text/x-python",
   "name": "python",
   "nbconvert_exporter": "python",
   "pygments_lexer": "ipython3",
   "version": "3.10.14"
  }
 },
 "nbformat": 4,
 "nbformat_minor": 2
}
