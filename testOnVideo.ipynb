{
 "cells": [
  {
   "cell_type": "code",
   "execution_count": 17,
   "metadata": {},
   "outputs": [],
   "source": [
    "import cv2\n",
    "import numpy as np\n",
    "import onnxruntime as ort"
   ]
  },
  {
   "cell_type": "code",
   "execution_count": 18,
   "metadata": {},
   "outputs": [],
   "source": [
    "model_path = r\"D:\\DS\\ViolenceDetection\\notebooks\\model_quantized.onnx\""
   ]
  },
  {
   "cell_type": "code",
   "execution_count": 19,
   "metadata": {},
   "outputs": [],
   "source": [
    "video_path=r'D:\\DS\\ViolenceDetection\\notebooks\\violentVideo\\violentVideo\\vid_1.mp4'"
   ]
  },
  {
   "cell_type": "code",
   "execution_count": 20,
   "metadata": {},
   "outputs": [],
   "source": [
    "def img_preprocessing(img):\n",
    "    mean=[0.485, 0.456, 0.406]\n",
    "    std=[0.229, 0.224, 0.225]\n",
    "    img = cv2.resize(img, (256, 256))\n",
    "    img = cv2.cvtColor(img, cv2.COLOR_BGR2RGB)\n",
    "    img = img / 255.0\n",
    "    for i in range(3):\n",
    "        img[:, :, i] = (img[:, :, i] - mean[i]) / std[i]\n",
    "    img = np.transpose(img, (2, 0, 1))\n",
    "    return img"
   ]
  },
  {
   "cell_type": "code",
   "execution_count": 21,
   "metadata": {},
   "outputs": [],
   "source": [
    "def predict_video(video_path,onnx_model_path):\n",
    "    #loader model\n",
    "    session = ort.InferenceSession(onnx_model_path)\n",
    "    input_name=session.get_inputs()[0].name\n",
    "    output_name=session.get_outputs()[0].name\n",
    "\n",
    "    cap = cv2.VideoCapture(video_path)\n",
    "    fps=cap.get(cv2.CAP_PROP_FPS)\n",
    "    all_frames=cap.get(cv2.CAP_PROP_FRAME_COUNT)\n",
    "    X=[]\n",
    "    y_preds=[]\n",
    "    frame_interval=int(fps/12)\n",
    "    for i in range(int(all_frames/frame_interval)):\n",
    "        cap.set(cv2.CAP_PROP_POS_FRAMES, i*frame_interval)\n",
    "        ret, frame = cap.read()\n",
    "        cv2.imshow('cammera',frame)\n",
    "        if cv2.waitKey(1) & 0xFF == ord('q'):\n",
    "            break\n",
    "        if not ret:\n",
    "            break\n",
    "        X.append(img_preprocessing(frame))\n",
    "    if(len(X)<10):\n",
    "        print('Error video do not have enough frame for prediction!')\n",
    "    else:\n",
    "        for i in range(len(X)-9):\n",
    "            input_data=np.array([X[i:i+10]],dtype=np.float32)\n",
    "            # print(input_data.shape)\n",
    "            outputs = session.run([output_name], {input_name: input_data})\n",
    "            y_preds.append(np.argmax(outputs[0],axis=1)[0])\n",
    "    cap.release()\n",
    "    cv2.destroyAllWindows()\n",
    "    return y_preds\n",
    "        "
   ]
  },
  {
   "cell_type": "code",
   "execution_count": 22,
   "metadata": {},
   "outputs": [],
   "source": [
    "y=predict_video(video_path,model_path)"
   ]
  },
  {
   "cell_type": "code",
   "execution_count": 23,
   "metadata": {},
   "outputs": [
    {
     "data": {
      "text/plain": [
       "83"
      ]
     },
     "execution_count": 23,
     "metadata": {},
     "output_type": "execute_result"
    }
   ],
   "source": [
    "sum(y)"
   ]
  }
 ],
 "metadata": {
  "kernelspec": {
   "display_name": "base",
   "language": "python",
   "name": "python3"
  },
  "language_info": {
   "codemirror_mode": {
    "name": "ipython",
    "version": 3
   },
   "file_extension": ".py",
   "mimetype": "text/x-python",
   "name": "python",
   "nbconvert_exporter": "python",
   "pygments_lexer": "ipython3",
   "version": "3.11.5"
  }
 },
 "nbformat": 4,
 "nbformat_minor": 2
}
